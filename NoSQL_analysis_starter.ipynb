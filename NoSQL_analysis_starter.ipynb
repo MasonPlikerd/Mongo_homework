{
 "cells": [
  {
   "cell_type": "markdown",
   "id": "9a57c4c6",
   "metadata": {},
   "source": [
    "# Eat Safe, Love"
   ]
  },
  {
   "cell_type": "markdown",
   "id": "064ef857",
   "metadata": {},
   "source": [
    "## Notebook Set Up"
   ]
  },
  {
   "cell_type": "code",
   "execution_count": null,
   "id": "3ecdd008",
   "metadata": {},
   "outputs": [],
   "source": [
    "from pymongo import MongoClient\n",
    "import pandas as pd\n",
    "from pprint import pprint"
   ]
  },
  {
   "cell_type": "code",
   "execution_count": null,
   "id": "59390c4a",
   "metadata": {},
   "outputs": [],
   "source": [
    "# Create an instance of MongoClient\n",
    "mongo = MongoClient(port=27017)"
   ]
  },
  {
   "cell_type": "code",
   "execution_count": null,
   "id": "71e373c1",
   "metadata": {},
   "outputs": [],
   "source": [
    "# assign the uk_food database to a variable name\n",
    "db = mongo['uk_food']"
   ]
  },
  {
   "cell_type": "code",
   "execution_count": null,
   "id": "18ab463c",
   "metadata": {},
   "outputs": [],
   "source": [
    "# List the collections in the uk_food database\n",
    "collections = db.list_collection_names()\n",
    "\n",
    "# Display the collections\n",
    "print(collections)\n"
   ]
  },
  {
   "cell_type": "code",
   "execution_count": null,
   "id": "11c9f11b",
   "metadata": {},
   "outputs": [],
   "source": [
    "# assign the collection to a variable\n",
    "establishments = db['establishments']"
   ]
  },
  {
   "cell_type": "markdown",
   "id": "d5671434",
   "metadata": {},
   "source": [
    "## Part 3: Exploratory Analysis\n",
    "Unless otherwise stated, for each question: \n",
    "* Use `count_documents` to display the number of documents contained in the result.\n",
    "* Display the first document in the results using `pprint`.\n",
    "* Convert the result to a Pandas DataFrame, print the number of rows in the DataFrame, and display the first 10 rows."
   ]
  },
  {
   "cell_type": "markdown",
   "id": "314bd884",
   "metadata": {},
   "source": [
    "### 1. Which establishments have a hygiene score equal to 20?"
   ]
  },
  {
   "cell_type": "code",
   "execution_count": null,
   "id": "c2da7648",
   "metadata": {},
   "outputs": [],
   "source": [
    "# Define the query to find establishments with a hygiene score of 20\n",
    "query = {\"scores.Hygiene\": 20}\n",
    "\n",
    "# Use count_documents to display the number of documents in the result\n",
    "count = db.establishments.count_documents(query)\n",
    "print(f\"Number of establishments with a hygiene score of 20: {count}\")\n",
    "\n",
    "# Display the first document in the results using pprint\n",
    "first_result = db.establishments.find_one(query)\n",
    "pprint(first_result\n"
   ]
  },
  {
   "cell_type": "code",
   "execution_count": null,
   "id": "a6e5cece",
   "metadata": {},
   "outputs": [],
   "source": [
    "\n",
    "# Query to find establishments with a hygiene score of 20\n",
    "query = {\"scores.Hygiene\": 20}\n",
    "\n",
    "# Retrieve all matching documents\n",
    "results = list(db.establishments.find(query))\n",
    "\n",
    "# Convert the results to a Pandas DataFrame\n",
    "df = pd.DataFrame(results)\n",
    "\n",
    "# Display the number of rows in the DataFrame\n",
    "row_count = df.shape[0]\n",
    "\n",
    "# Display the first 10 rows of the DataFrame\n",
    "df_first_10 = df.head(10)\n",
    "\n",
    "# Output the row count and the first 10 rows of the DataFrame\n",
    "row_count, df_first_10"
   ]
  },
  {
   "cell_type": "markdown",
   "id": "0ef4395a",
   "metadata": {},
   "source": [
    "### 2. Which establishments in London have a `RatingValue` greater than or equal to 4?"
   ]
  },
  {
   "cell_type": "code",
   "execution_count": null,
   "id": "93c63829",
   "metadata": {},
   "outputs": [],
   "source": [
    "# Define the query to find establishments in London with RatingValue >= 4\n",
    "query = {\n",
    "    \"LocalAuthorityName\": \"London\",\n",
    "    \"RatingValue\": {\"$gte\": 4}\n",
    "}\n",
    "\n",
    "# Use count_documents to display the number of documents in the result\n",
    "count = db.establishments.count_documents(query)\n",
    "print(f\"Number of establishments with LocalAuthorityName as 'London' and RatingValue >= 4: {count}\")\n",
    "\n",
    "# Display the first document in the results using pprint\n",
    "first_result = db.establishments.find_one(query)\n",
    "pprint(first_result)\n"
   ]
  },
  {
   "cell_type": "code",
   "execution_count": null,
   "id": "07e24ccb",
   "metadata": {},
   "outputs": [],
   "source": [
    "# Query to find establishments with a hygiene score of 20\n",
    "query = {\"scores.Hygiene\": 20}\n",
    "\n",
    "# Retrieve all matching documents\n",
    "results = list(db.establishments.find(query))\n",
    "\n",
    "# Convert the results to a Pandas DataFrame\n",
    "df = pd.DataFrame(results)\n",
    "\n",
    "# Display the number of rows in the DataFrame\n",
    "row_count = df.shape[0]\n",
    "\n",
    "# Display the first 10 rows of the DataFrame\n",
    "df_first_10 = df.head(10)\n",
    "\n",
    "# Output the row count and the first 10 rows of the DataFrame\n",
    "row_count, df_first_10"
   ]
  },
  {
   "attachments": {},
   "cell_type": "markdown",
   "id": "4e570caf",
   "metadata": {},
   "source": [
    "### 3. What are the top 5 establishments with a `RatingValue` rating value of 5, sorted by lowest hygiene score, nearest to the new restaurant added, \"Penang Flavours\"?"
   ]
  },
  {
   "cell_type": "code",
   "execution_count": null,
   "id": "7f599f3d",
   "metadata": {},
   "outputs": [],
   "source": [
    "# Define the latitude and longitude (replace with your coordinates)\n",
    "latitude = 51.5074  # Example value (London)\n",
    "longitude = -0.1278  # Example value (London)\n",
    "\n",
    "# Define the search degree range\n",
    "degree_search = 0.01\n",
    "\n",
    "# Define the query to find establishments within the given latitude and longitude range, and RatingValue equals 5\n",
    "query = {\n",
    "    \"RatingValue\": 5,\n",
    "    \"geocode.latitude\": {\"$gte\": latitude - degree_search, \"$lte\": latitude + degree_search},\n",
    "    \"geocode.longitude\": {\"$gte\": longitude - degree_search, \"$lte\": longitude + degree_search}\n",
    "}\n",
    "\n",
    "# Define the sorting criteria (by hygiene score in ascending order)\n",
    "sort = [(\"scores.Hygiene\", 1)]\n",
    "\n",
    "# Define a limit for the number of results (optional)\n",
    "limit = 10\n",
    "\n",
    "# Retrieve and print the results\n",
    "results = list(db.establishments.find(query).sort(sort).limit(limit))\n",
    "\n",
    "# Pretty print the results\n",
    "for result in results:\n",
    "    pprint(result)\n"
   ]
  },
  {
   "cell_type": "code",
   "execution_count": null,
   "id": "a6ad16f7",
   "metadata": {},
   "outputs": [],
   "source": [
    "# Convert the search result (establishments within 0.01 degree of latitude/longitude and RatingValue = 5) to a Pandas DataFrame\n",
    "\n",
    "# Define the latitude and longitude (replace with your actual coordinates)\n",
    "latitude = 51.5074  # Example value (London)\n",
    "longitude = -0.1278  # Example value (London)\n",
    "\n",
    "# Define the search degree range\n",
    "degree_search = 0.01\n",
    "\n",
    "# Define the query to find establishments within the given latitude and longitude range, and RatingValue equals 5\n",
    "query = {\n",
    "    \"RatingValue\": 5,\n",
    "    \"geocode.latitude\": {\"$gte\": latitude - degree_search, \"$lte\": latitude + degree_search},\n",
    "    \"geocode.longitude\": {\"$gte\": longitude - degree_search, \"$lte\": longitude + degree_search}\n",
    "}\n",
    "\n",
    "# Define the sorting criteria (by hygiene score in ascending order)\n",
    "sort = [(\"scores.Hygiene\", 1)]\n",
    "\n",
    "# Define a limit for the number of results\n",
    "limit = 10\n",
    "\n",
    "# Retrieve the results from the query\n",
    "results = list(db.establishments.find(query).sort(sort).limit(limit))\n",
    "\n",
    "# Convert the results to a Pandas DataFrame\n",
    "df_search_results = pd.DataFrame(results)\n",
    "\n",
    "# Display the number of rows and the first 10 rows of the DataFrame\n",
    "df_search_results.shape[0], df_search_results.head(10)\n"
   ]
  },
  {
   "cell_type": "markdown",
   "id": "67281254",
   "metadata": {},
   "source": [
    "### 4. How many establishments in each Local Authority area have a hygiene score of 0?"
   ]
  },
  {
   "cell_type": "code",
   "execution_count": null,
   "id": "4eeb227e",
   "metadata": {},
   "outputs": [],
   "source": [
    "# Define the aggregation pipeline\n",
    "pipeline = [\n",
    "    # Step 1: Match establishments with a hygiene score of 0\n",
    "    {\"$match\": {\"scores.Hygiene\": 0}},\n",
    "    \n",
    "    # Step 2: Group by LocalAuthorityName and count the number of matches\n",
    "    {\"$group\": {\"_id\": \"$LocalAuthorityName\", \"count\": {\"$sum\": 1}}},\n",
    "    \n",
    "    # Step 3: Sort the results from highest to lowest\n",
    "    {\"$sort\": {\"count\": -1}}\n",
    "]\n",
    "\n",
    "# Run the aggregation pipeline\n",
    "results = list(db.establishments.aggregate(pipeline))\n",
    "\n",
    "# Print the number of documents in the result\n",
    "print(f\"Number of documents in the result: {len(results)}\")\n",
    "\n",
    "# Print the first 10 results\n",
    "pprint(results[:10])\n"
   ]
  },
  {
   "cell_type": "code",
   "execution_count": null,
   "id": "d8aab364",
   "metadata": {},
   "outputs": [],
   "source": [
    "# Convert the aggregation results to a Pandas DataFrame\n",
    "df_results = pd.DataFrame(results)\n",
    "\n",
    "# Display the number of rows in the DataFrame\n",
    "row_count = df_results.shape[0]\n",
    "\n",
    "# Display the first 10 rows of the DataFrame\n",
    "df_first_10 = df_results.head(10)\n",
    "\n",
    "row_count, df_first_10"
   ]
  }
 ],
 "metadata": {
  "kernelspec": {
   "display_name": "Python 3 (ipykernel)",
   "language": "python",
   "name": "python3"
  },
  "language_info": {
   "codemirror_mode": {
    "name": "ipython",
    "version": 3
   },
   "file_extension": ".py",
   "mimetype": "text/x-python",
   "name": "python",
   "nbconvert_exporter": "python",
   "pygments_lexer": "ipython3",
   "version": "3.10.4"
  }
 },
 "nbformat": 4,
 "nbformat_minor": 5
}
