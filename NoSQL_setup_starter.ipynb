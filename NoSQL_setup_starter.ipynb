{
 "cells": [
  {
   "cell_type": "markdown",
   "id": "9a57c4c6",
   "metadata": {},
   "source": [
    "# Eat Safe, Love"
   ]
  },
  {
   "cell_type": "markdown",
   "id": "064ef857",
   "metadata": {},
   "source": [
    "## Part 1: Database and Jupyter Notebook Set Up"
   ]
  },
  {
   "cell_type": "markdown",
   "id": "664e3c1f",
   "metadata": {},
   "source": [
    "Import the data provided in the `establishments.json` file from your Terminal. Name the database `uk_food` and the collection `establishments`.\n",
    "\n",
    "Within this markdown cell, copy the line of text you used to import the data from your Terminal. This way, future analysts will be able to repeat your process.\n",
    "\n",
    "e.g.: Import the dataset with `YOUR IMPORT TEXT HERE`"
   ]
  },
  {
   "cell_type": "code",
   "execution_count": 1,
   "id": "3ecdd008",
   "metadata": {},
   "outputs": [],
   "source": [
    "# Import dependencies\n",
    "from pymongo import MongoClient\n",
    "from pprint import pprint"
   ]
  },
  {
   "cell_type": "code",
   "execution_count": 4,
   "id": "59390c4a",
   "metadata": {},
   "outputs": [],
   "source": [
    "# Create an instance of MongoClient\n",
    "mongo = MongoClient(port=27017)"
   ]
  },
  {
   "cell_type": "code",
   "execution_count": 3,
   "id": "7f9ececa",
   "metadata": {},
   "outputs": [
    {
     "data": {
      "text/plain": [
       "['admin', 'config', 'local']"
      ]
     },
     "execution_count": 3,
     "metadata": {},
     "output_type": "execute_result"
    }
   ],
   "source": [
    "# List all the databases to confirm if 'uk_food' database was created\n",
    "databases = mongo.list_database_names()\n",
    "\n",
    "# Display the list of databases\n",
    "databases"
   ]
  },
  {
   "cell_type": "code",
   "execution_count": 5,
   "id": "71e373c1",
   "metadata": {},
   "outputs": [],
   "source": [
    "# assign the uk_food database to a variable name\n",
    "db = mongo['uk_food']"
   ]
  },
  {
   "cell_type": "code",
   "execution_count": 6,
   "id": "ef1b89ed",
   "metadata": {},
   "outputs": [
    {
     "name": "stdout",
     "output_type": "stream",
     "text": [
      "[]\n"
     ]
    }
   ],
   "source": [
    "# review the collections in our new database\n",
    "db = mongo['uk_food']\n",
    "\n",
    "# List collections in the 'uk_food' database\n",
    "collections = db.list_collection_names()\n",
    "print(collections)"
   ]
  },
  {
   "cell_type": "code",
   "execution_count": null,
   "id": "18ab463c",
   "metadata": {},
   "outputs": [],
   "source": [
    "# review the collections in our new database\n",
    "# List the collections in the uk_food database\n",
    "collections = db.list_collection_names()\n",
    "\n",
    "# Display the collections\n",
    "print(collections)"
   ]
  },
  {
   "cell_type": "code",
   "execution_count": null,
   "id": "6a0d92df",
   "metadata": {},
   "outputs": [],
   "source": [
    "# Retrieve and display one document from the establishments collection\n",
    "document = db.establishments.find_one()\n",
    "\n",
    "# Pretty print the document\n",
    "pprint(document)"
   ]
  },
  {
   "cell_type": "code",
   "execution_count": null,
   "id": "11c9f11b",
   "metadata": {},
   "outputs": [],
   "source": [
    "# assign the collection to a variable\n",
    "establishments = db['establishments']"
   ]
  },
  {
   "cell_type": "markdown",
   "id": "d5671434",
   "metadata": {},
   "source": [
    "## Part 2: Update the Database"
   ]
  },
  {
   "cell_type": "markdown",
   "id": "314bd884",
   "metadata": {},
   "source": [
    "1. An exciting new halal restaurant just opened in Greenwich, but hasn't been rated yet. The magazine has asked you to include it in your analysis. Add the following restaurant \"Penang Flavours\" to the database."
   ]
  },
  {
   "cell_type": "code",
   "execution_count": null,
   "id": "c2da7648",
   "metadata": {},
   "outputs": [],
   "source": [
    "# Create a dictionary for the new restaurant data\n",
    "# Define the new restaurant document\n",
    "new_restaurant = {\n",
    "    \"BusinessName\": \"Penang Flavours\",\n",
    "    \"BusinessType\": \"Restaurant/Cafe/Canteen\",\n",
    "    \"AddressLine1\": \"Penang Flavours\",\n",
    "    \"AddressLine2\": \"\",\n",
    "    \"AddressLine3\": \"Greenwich\",\n",
    "    \"AddressLine4\": \"\",\n",
    "    \"PostCode\": \"SE10 9XYZ\",\n",
    "    \"RatingValue\": None,  # Not rated yet\n",
    "    \"LocalAuthority\": \"Greenwich\",\n",
    "    \"Halal\": True  # New halal restaurant\n",
    "}\n"
   ]
  },
  {
   "cell_type": "code",
   "execution_count": null,
   "id": "a6e5cece",
   "metadata": {},
   "outputs": [],
   "source": [
    "# Insert the new restaurant into the establishments collection\n",
    "db.establishments.insert_one(new_restaurant)\n"
   ]
  },
  {
   "cell_type": "code",
   "execution_count": null,
   "id": "63bb10f9",
   "metadata": {},
   "outputs": [],
   "source": [
    "# Check that the new restaurant was inserted\n",
    "# Confirm the insertion by finding the new restaurant\n",
    "inserted_restaurant = db.establishments.find_one({\"BusinessName\": \"Penang Flavours\"})\n",
    "\n",
    "# Pretty print the inserted document\n",
    "pprint(inserted_restaurant)"
   ]
  },
  {
   "cell_type": "markdown",
   "id": "0ef4395a",
   "metadata": {},
   "source": [
    "2. Find the BusinessTypeID for \"Restaurant/Cafe/Canteen\" and return only the `BusinessTypeID` and `BusinessType` fields."
   ]
  },
  {
   "cell_type": "code",
   "execution_count": null,
   "id": "93c63829",
   "metadata": {},
   "outputs": [],
   "source": [
    "# Query to find the BusinessTypeID for \"Restaurant/Cafe/Canteen\"\n",
    "result = db.establishments.find_one(\n",
    "    {\"BusinessType\": \"Restaurant/Cafe/Canteen\"}, \n",
    "    {\"BusinessTypeID\": 1, \"BusinessType\": 1, \"_id\": 0}  # Only return the BusinessTypeID and BusinessType fields\n",
    ")\n",
    "\n",
    "# Pretty print the result\n",
    "pprint(result)\n"
   ]
  },
  {
   "cell_type": "markdown",
   "id": "4e570caf",
   "metadata": {},
   "source": [
    "3. Update the new restaurant with the `BusinessTypeID` you found."
   ]
  },
  {
   "cell_type": "code",
   "execution_count": null,
   "id": "7f599f3d",
   "metadata": {},
   "outputs": [],
   "source": [
    "# Update the new restaurant \"Penang Flavours\" with the correct BusinessTypeID\n",
    "db.establishments.update_one(\n",
    "    {\"BusinessName\": \"Penang Flavours\"},\n",
    "    {\"$set\": {\"BusinessTypeID\": business_type_id}}\n",
    ")\n",
    "\n",
    "# Confirm the update by retrieving the updated document\n",
    "updated_restaurant = db.establishments.find_one({\"BusinessName\": \"Penang Flavours\"})\n",
    "pprint(updated_restaurant)"
   ]
  },
  {
   "cell_type": "code",
   "execution_count": null,
   "id": "a6ad16f7",
   "metadata": {},
   "outputs": [],
   "source": [
    "# Retrieve the updated \"Penang Flavours\" restaurant document\n",
    "updated_restaurant = db.establishments.find_one({\"BusinessName\": \"Penang Flavours\"})\n",
    "\n",
    "# Pretty print the document to confirm the update\n",
    "pprint(updated_restaurant)\n"
   ]
  },
  {
   "cell_type": "markdown",
   "id": "67281254",
   "metadata": {},
   "source": [
    "4. The magazine is not interested in any establishments in Dover, so check how many documents contain the Dover Local Authority. Then, remove any establishments within the Dover Local Authority from the database, and check the number of documents to ensure they were deleted."
   ]
  },
  {
   "cell_type": "code",
   "execution_count": null,
   "id": "768474a6",
   "metadata": {},
   "outputs": [],
   "source": [
    "# Find how many documents have LocalAuthorityName as \"Dover\"\n",
    "# Count the number of documents where LocalAuthorityName is \"Dover\"\n",
    "dover_count = db.establishments.count_documents({\"LocalAuthorityName\": \"Dover\"})\n",
    "\n",
    "# Display the result\n",
    "print(f\"Number of documents with LocalAuthorityName as 'Dover': {dover_count}\")"
   ]
  },
  {
   "cell_type": "code",
   "execution_count": null,
   "id": "a11d5f1b",
   "metadata": {},
   "outputs": [],
   "source": [
    "# Delete all documents where LocalAuthorityName is \"Dover\"\n",
    "delete_result = db.establishments.delete_many({\"LocalAuthorityName\": \"Dover\"})\n",
    "\n",
    "# Display the number of documents deleted\n",
    "print(f\"Number of documents deleted: {delete_result.deleted_count}\")\n"
   ]
  },
  {
   "cell_type": "code",
   "execution_count": null,
   "id": "2a51aba0",
   "metadata": {},
   "outputs": [],
   "source": [
    "# Check if any documents with LocalAuthorityName as \"Dover\" still exist\n",
    "dover_exists = db.establishments.count_documents({\"LocalAuthorityName\": \"Dover\"})\n",
    "\n",
    "# Display the result\n",
    "if dover_exists > 0:\n",
    "    print(f\"There are still {dover_exists} documents with LocalAuthorityName as 'Dover'.\")\n",
    "else:\n",
    "    print(\"No documents with LocalAuthorityName as 'Dover' remain.\")\n"
   ]
  },
  {
   "cell_type": "code",
   "execution_count": null,
   "id": "8c356f7b",
   "metadata": {},
   "outputs": [],
   "source": [
    "# Check that other documents remain with 'find_one'\n",
    "# Retrieve and display one remaining document from the establishments collection\n",
    "remaining_document = db.establishments.find_one()\n",
    "\n",
    "# Pretty print the document to confirm others remain\n",
    "pprint(remaining_document)"
   ]
  },
  {
   "attachments": {},
   "cell_type": "markdown",
   "id": "e9f1662d",
   "metadata": {},
   "source": [
    "5. Some of the number values are stored as strings, when they should be stored as numbers."
   ]
  },
  {
   "attachments": {},
   "cell_type": "markdown",
   "id": "c46df2df",
   "metadata": {},
   "source": [
    "Use `update_many` to convert `latitude` and `longitude` to decimal numbers."
   ]
  },
  {
   "cell_type": "code",
   "execution_count": null,
   "id": "fd4112ce",
   "metadata": {},
   "outputs": [],
   "source": [
    "# Change the data type from String to Decimal for longitude and latitude\n"
   ]
  },
  {
   "attachments": {},
   "cell_type": "markdown",
   "id": "142e319c",
   "metadata": {},
   "source": [
    "Use `update_many` to convert `RatingValue` to integer numbers."
   ]
  },
  {
   "cell_type": "code",
   "execution_count": null,
   "id": "04430a5b",
   "metadata": {},
   "outputs": [],
   "source": [
    "# Set non 1-5 Rating Values to Null\n",
    "non_ratings = [\"AwaitingInspection\", \"Awaiting Inspection\", \"AwaitingPublication\", \"Pass\", \"Exempt\"]\n",
    "establishments.update_many({\"RatingValue\": {\"$in\": non_ratings}}, [ {'$set':{ \"RatingValue\" : None}} ])"
   ]
  },
  {
   "cell_type": "code",
   "execution_count": null,
   "id": "92524ccc",
   "metadata": {},
   "outputs": [],
   "source": [
    "# Find documents where RatingValue is stored as a string and is numeric (1-5)\n",
    "numeric_ratings = db.establishments.find({\n",
    "    \"RatingValue\": {\"$in\": [\"1\", \"2\", \"3\", \"4\", \"5\"]}\n",
    "})\n",
    "\n",
    "# Loop through the documents and convert the RatingValue to an integer\n",
    "for doc in numeric_ratings:\n",
    "    # Convert RatingValue from string to integer\n",
    "    rating_value = int(doc['RatingValue'])\n",
    "    \n",
    "    # Update the document with the converted integer value\n",
    "    db.establishments.update_one(\n",
    "        {\"_id\": doc[\"_id\"]},\n",
    "        {\"$set\": {\"RatingValue\": rating_value}}\n",
    "    )\n",
    "\n",
    "# Confirm the update\n",
    "print(\"RatingValue has been updated from string to integer where applicable.\")\n"
   ]
  },
  {
   "cell_type": "code",
   "execution_count": null,
   "id": "0deacaf9",
   "metadata": {},
   "outputs": [],
   "source": [
    "# Retrieve one document where longitude and latitude are decimals and RatingValue is an integer\n",
    "document_check = db.establishments.find_one({\n",
    "    \"geocode.longitude\": {\"$type\": \"double\"},\n",
    "    \"geocode.latitude\": {\"$type\": \"double\"},\n",
    "    \"RatingValue\": {\"$type\": \"int\"}\n",
    "})\n",
    "# Check for a document where RatingValue is null\n",
    "null_rating_check = db.establishments.find_one({\"RatingValue\": None})\n",
    "\n",
    "# Pretty print the result\n",
    "pprint(null_rating_check)\n",
    "# Pretty print the document to confirm\n",
    "pprint(document_check)"
   ]
  }
 ],
 "metadata": {
  "kernelspec": {
   "display_name": "base",
   "language": "python",
   "name": "python3"
  },
  "language_info": {
   "codemirror_mode": {
    "name": "ipython",
    "version": 3
   },
   "file_extension": ".py",
   "mimetype": "text/x-python",
   "name": "python",
   "nbconvert_exporter": "python",
   "pygments_lexer": "ipython3",
   "version": "3.11.7"
  }
 },
 "nbformat": 4,
 "nbformat_minor": 5
}
